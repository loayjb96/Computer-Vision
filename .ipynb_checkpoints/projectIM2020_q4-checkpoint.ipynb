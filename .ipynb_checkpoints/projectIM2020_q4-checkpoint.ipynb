{
 "cells": [
  {
   "cell_type": "code",
   "execution_count": 117,
   "metadata": {},
   "outputs": [
    {
     "name": "stdout",
     "output_type": "stream",
     "text": [
      "[[ 74  91   6]\n",
      " [ 92  67   6]\n",
      " [ 82 184   6]\n",
      " [106 266   5]\n",
      " [108 215   6]\n",
      " [ 87 362   4]\n",
      " [ 53  65   6]\n",
      " [ 58 210   5]\n",
      " [ 85 238   6]\n",
      " [106 156   6]\n",
      " [ 51 148   5]\n",
      " [ 67 265   4]\n",
      " [ 50 114   4]]\n",
      "[[ 82 184   6]\n",
      " [ 59 210   5]\n",
      " [107 156   6]\n",
      " [108 214   6]\n",
      " [ 51 149   6]\n",
      " [ 82 181   6]\n",
      " [ 84 238   4]\n",
      " [ 92  67   4]\n",
      " [ 70 361   6]\n",
      " [ 67 266   4]\n",
      " [105 267   4]\n",
      " [ 53  64   5]\n",
      " [ 50 114   4]\n",
      " [102 117   4]]\n"
     ]
    }
   ],
   "source": [
    "import cv2\n",
    "import numpy as np\n",
    "import matplotlib.pyplot as plt\n",
    "img = cv2.imread(\"Q4Images/5.jpeg\")\n",
    "img = cv2.cvtColor(img, cv2.COLOR_BGR2RGB)\n",
    "img2=img.copy()\n",
    "def adjust_gamma(image, gamma=1.0):\n",
    "    invGamma = 1.0 / gamma\n",
    "    table = np.array([((i / 255.0) ** invGamma) * 255\n",
    "    for i in np.arange(0, 256)]).astype(\"uint8\")\n",
    "    return cv2.LUT(image, table)\n",
    "def Show_img(img,img2):\n",
    "    vis = np.concatenate((img,img2), axis=1)\n",
    "    \n",
    "    cv2.imshow('Image with Borders', vis) \n",
    "# De-allocate any associated memory usage  \n",
    "    if cv2.waitKey(0): \n",
    "        cv2.destroyAllWindows()\n",
    "def find_circles(img): \n",
    "    n = cv2.cvtColor(img, cv2.COLOR_BGR2GRAY)  \n",
    "    circles=cv2.HoughCircles(n, cv2.HOUGH_GRADIENT, 1.1, minDist=2,param1=400,param2=16,minRadius=1,maxRadius=7)\n",
    "    find_circles2(circles)\n",
    "    temp=adjust_gamma(img,2) \n",
    "    n = cv2.cvtColor(temp, cv2.COLOR_BGR2GRAY)\n",
    "    circles=cv2.HoughCircles(n, cv2.HOUGH_GRADIENT, 1.1, minDist=2,param1=400,param2=16,minRadius=1,maxRadius=7)\n",
    "    find_circles2(circles)\n",
    "def find_circles2(circles):                             \n",
    "    if circles is not None:\n",
    "        circles = np.round(circles[0, :]).astype(\"int\")\n",
    "        print(circles)\n",
    "        for (x, y, r) in circles:\n",
    "            if(r!=0):\n",
    "                cv2.circle(img, (x, y), r, (110, 55, 0), 3)\n",
    "                cv2.rectangle(img, (x - 1, y - 1), (x + 1, y + 1), (110, 0, 255), -1)             \n",
    "find_circles(img2)\n",
    "Show_img(img,img2) \n",
    "\n",
    "   "
   ]
  }
 ],
 "metadata": {
  "kernelspec": {
   "display_name": "Python 3",
   "language": "python",
   "name": "python3"
  },
  "language_info": {
   "codemirror_mode": {
    "name": "ipython",
    "version": 3
   },
   "file_extension": ".py",
   "mimetype": "text/x-python",
   "name": "python",
   "nbconvert_exporter": "python",
   "pygments_lexer": "ipython3",
   "version": "3.6.6"
  }
 },
 "nbformat": 4,
 "nbformat_minor": 2
}
