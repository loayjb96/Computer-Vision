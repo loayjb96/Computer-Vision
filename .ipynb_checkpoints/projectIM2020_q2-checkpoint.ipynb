{
 "cells": [
  {
   "cell_type": "code",
   "execution_count": 237,
   "metadata": {},
   "outputs": [
    {
     "ename": "NameError",
     "evalue": "name 'show' is not defined",
     "output_type": "error",
     "traceback": [
      "\u001b[1;31m---------------------------------------------------------------------------\u001b[0m",
      "\u001b[1;31mNameError\u001b[0m                                 Traceback (most recent call last)",
      "\u001b[1;32m<ipython-input-237-f2396cc5763e>\u001b[0m in \u001b[0;36m<module>\u001b[1;34m\u001b[0m\n\u001b[0;32m     54\u001b[0m                 \u001b[0mcv2\u001b[0m\u001b[1;33m.\u001b[0m\u001b[0mrectangle\u001b[0m\u001b[1;33m(\u001b[0m\u001b[0mimg\u001b[0m\u001b[1;33m,\u001b[0m \u001b[1;33m(\u001b[0m\u001b[0mx\u001b[0m \u001b[1;33m-\u001b[0m \u001b[1;36m5\u001b[0m\u001b[1;33m,\u001b[0m \u001b[0my\u001b[0m \u001b[1;33m-\u001b[0m \u001b[1;36m5\u001b[0m\u001b[1;33m)\u001b[0m\u001b[1;33m,\u001b[0m \u001b[1;33m(\u001b[0m\u001b[0mx\u001b[0m \u001b[1;33m+\u001b[0m \u001b[1;36m5\u001b[0m\u001b[1;33m,\u001b[0m \u001b[0my\u001b[0m \u001b[1;33m+\u001b[0m \u001b[1;36m5\u001b[0m\u001b[1;33m)\u001b[0m\u001b[1;33m,\u001b[0m \u001b[1;33m(\u001b[0m\u001b[1;36m0\u001b[0m\u001b[1;33m,\u001b[0m \u001b[1;36m128\u001b[0m\u001b[1;33m,\u001b[0m \u001b[1;36m255\u001b[0m\u001b[1;33m)\u001b[0m\u001b[1;33m,\u001b[0m \u001b[1;33m-\u001b[0m\u001b[1;36m1\u001b[0m\u001b[1;33m)\u001b[0m\u001b[1;33m\u001b[0m\u001b[0m\n\u001b[0;32m     55\u001b[0m         \u001b[0mCopy_cv_img\u001b[0m\u001b[1;33m.\u001b[0m\u001b[0mappend\u001b[0m\u001b[1;33m(\u001b[0m\u001b[0mn\u001b[0m\u001b[1;33m)\u001b[0m\u001b[1;33m\u001b[0m\u001b[0m\n\u001b[1;32m---> 56\u001b[1;33m \u001b[0mPreformjob\u001b[0m\u001b[1;33m(\u001b[0m\u001b[0mcv_img\u001b[0m\u001b[1;33m)\u001b[0m\u001b[1;33m\u001b[0m\u001b[0m\n\u001b[0m\u001b[0;32m     57\u001b[0m \u001b[0mshowImages\u001b[0m\u001b[1;33m(\u001b[0m\u001b[0mcv_img\u001b[0m\u001b[1;33m)\u001b[0m\u001b[1;33m\u001b[0m\u001b[0m\n\u001b[0;32m     58\u001b[0m \u001b[1;32mdef\u001b[0m \u001b[0mshow\u001b[0m\u001b[1;33m(\u001b[0m\u001b[0mimg\u001b[0m\u001b[1;33m)\u001b[0m\u001b[1;33m:\u001b[0m\u001b[1;33m\u001b[0m\u001b[0m\n",
      "\u001b[1;32m<ipython-input-237-f2396cc5763e>\u001b[0m in \u001b[0;36mPreformjob\u001b[1;34m(cv_img)\u001b[0m\n\u001b[0;32m     38\u001b[0m         \u001b[0mn\u001b[0m \u001b[1;33m=\u001b[0m \u001b[0mcv2\u001b[0m\u001b[1;33m.\u001b[0m\u001b[0mcvtColor\u001b[0m\u001b[1;33m(\u001b[0m\u001b[0mn\u001b[0m\u001b[1;33m,\u001b[0m \u001b[0mcv2\u001b[0m\u001b[1;33m.\u001b[0m\u001b[0mCOLOR_BGR2GRAY\u001b[0m\u001b[1;33m)\u001b[0m\u001b[1;33m\u001b[0m\u001b[0m\n\u001b[0;32m     39\u001b[0m         \u001b[0mn\u001b[0m\u001b[1;33m=\u001b[0m\u001b[0mcv2\u001b[0m\u001b[1;33m.\u001b[0m\u001b[0mmorphologyEx\u001b[0m\u001b[1;33m(\u001b[0m\u001b[0mn\u001b[0m\u001b[1;33m,\u001b[0m \u001b[0mcv2\u001b[0m\u001b[1;33m.\u001b[0m\u001b[0mMORPH_CLOSE\u001b[0m\u001b[1;33m,\u001b[0m \u001b[0mkernel\u001b[0m\u001b[1;33m)\u001b[0m\u001b[1;33m\u001b[0m\u001b[0m\n\u001b[1;32m---> 40\u001b[1;33m         \u001b[0mshow\u001b[0m\u001b[1;33m(\u001b[0m\u001b[0mn\u001b[0m\u001b[1;33m)\u001b[0m\u001b[1;33m\u001b[0m\u001b[0m\n\u001b[0m\u001b[0;32m     41\u001b[0m         \u001b[0mi\u001b[0m\u001b[1;33m+=\u001b[0m\u001b[1;36m1\u001b[0m\u001b[1;33m\u001b[0m\u001b[0m\n\u001b[0;32m     42\u001b[0m         \u001b[1;32mif\u001b[0m\u001b[1;33m(\u001b[0m\u001b[0mi\u001b[0m\u001b[1;33m==\u001b[0m\u001b[0mlen\u001b[0m\u001b[1;33m(\u001b[0m\u001b[0mcv_img\u001b[0m\u001b[1;33m)\u001b[0m\u001b[1;33m-\u001b[0m\u001b[1;36m1\u001b[0m\u001b[1;33m)\u001b[0m\u001b[1;33m:\u001b[0m\u001b[1;33m\u001b[0m\u001b[0m\n",
      "\u001b[1;31mNameError\u001b[0m: name 'show' is not defined"
     ]
    }
   ],
   "source": [
    "import cv2\n",
    "import numpy as np\n",
    "import matplotlib.pyplot as plt\n",
    "import glob\n",
    "path = glob.glob(\"Q2Images/*.png\")\n",
    "cv_img = []\n",
    "for img in path:\n",
    "    n = cv2.imread(img)\n",
    "    cv_img.append(n)  \n",
    "def concatenate(img1,img2):\n",
    "    h1, w1 = img1.shape[:2]\n",
    "    h2, w2 = img2.shape[:2]\n",
    "#create empty matrix\n",
    "    vis = np.zeros((max(h1, h2), w1+w2,3), np.uint8)\n",
    "\n",
    "#combine 2 images\n",
    "    vis[:h1, :w1,:3] = img1\n",
    "    vis[:h2, w1:w1+w2,:3] = img2\n",
    "    return vis\n",
    "def showImages(cv_img):\n",
    "    vis1 = np.concatenate((cv_img[0],cv_img[1],cv_img[2],cv_img[3],cv_img[4]), axis=1)\n",
    "    vis2 = np.concatenate((cv_img[5],cv_img[6],cv_img[7],cv_img[8],cv_img[9]), axis=1)\n",
    "    vis1 = cv2.resize(vis1, (650, 300), None, .12, .15)\n",
    "    vis2 = cv2.resize(vis2, (650, 300), None, .12, .15)\n",
    "    visfinal = np.concatenate((vis1,vis2), axis=0)     \n",
    "    cv2.imshow('Output for question 2', visfinal) \n",
    "# De-allocate any associated memory usage  \n",
    "    if cv2.waitKey(0): \n",
    "        cv2.destroyAllWindows() \n",
    "kernel = cv2.getStructuringElement(cv2.MORPH_ELLIPSE, (2, 2))        \n",
    "def Preformjob(cv_img):\n",
    "    Copy_cv_img = []\n",
    "    i=0\n",
    "    changeable=0\n",
    "    maxRad=0\n",
    "    for img in cv_img:\n",
    "        n=cv2.medianBlur(img, 5);\n",
    "        n = cv2.cvtColor(n, cv2.COLOR_BGR2GRAY)\n",
    "        n=cv2.morphologyEx(n, cv2.MORPH_CLOSE, kernel)\n",
    "        show(n)\n",
    "        i+=1\n",
    "        if(i==len(cv_img)-1):\n",
    "            changeable=18\n",
    "            maxRad=35\n",
    "        else:\n",
    "            changeable=65\n",
    "            maxRad=55\n",
    "        circles=cv2.HoughCircles(n, cv2.HOUGH_GRADIENT, 1, minDist=24,param1=210,param2=changeable,minRadius=5,\n",
    "               maxRadius=maxRad)    \n",
    "        if circles is not None:\n",
    "            circles = np.round(circles[0, :]).astype(\"int\")\n",
    "            for (x, y, r) in circles:\n",
    "                cv2.circle(img, (x, y), r, (105, 255, 0), 4)\n",
    "                cv2.rectangle(img, (x - 5, y - 5), (x + 5, y + 5), (0, 128, 255), -1)  \n",
    "        Copy_cv_img.append(n)\n",
    "Preformjob(cv_img)\n",
    "showImages(cv_img)\n",
    "def show(img):    \n",
    "    cv2.imshow('Output for question 2', img) \n",
    "# De-allocate any associated memory usage  \n",
    "    if cv2.waitKey(0): \n",
    "        cv2.destroyAllWindows() "
   ]
  },
  {
   "cell_type": "code",
   "execution_count": null,
   "metadata": {},
   "outputs": [],
   "source": []
  }
 ],
 "metadata": {
  "kernelspec": {
   "display_name": "Python 3",
   "language": "python",
   "name": "python3"
  },
  "language_info": {
   "codemirror_mode": {
    "name": "ipython",
    "version": 3
   },
   "file_extension": ".py",
   "mimetype": "text/x-python",
   "name": "python",
   "nbconvert_exporter": "python",
   "pygments_lexer": "ipython3",
   "version": "3.6.6"
  }
 },
 "nbformat": 4,
 "nbformat_minor": 2
}
